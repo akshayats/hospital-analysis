{
 "cells": [
  {
   "cell_type": "markdown",
   "id": "d7d4046d-e90d-44a5-8ced-7f34ba6da4f6",
   "metadata": {},
   "source": [
    "This notebook is for analysing the patient presence at the hospitals.\n",
    "\n",
    "Result should be, for each patient:\n",
    "- a list of 61 days marked with a 0\n",
    "- the middle day is matched with the surgery action date and marked with a 1\n",
    "- any other inpatient or outpatient days for the same case to be marked with a 1\n",
    "- this yields a square signal for patient's attendance"
   ]
  },
  {
   "cell_type": "code",
   "execution_count": 1,
   "id": "f4d36660-be7d-4c19-90be-64dd64f58b57",
   "metadata": {},
   "outputs": [],
   "source": [
    "# All imports\n",
    "import pandas as pd\n",
    "import numpy as np\n",
    "import matplotlib.pyplot as plt"
   ]
  },
  {
   "cell_type": "markdown",
   "id": "dd545658-03e6-4852-8a53-023f7381fcf8",
   "metadata": {},
   "source": [
    "### Data File:"
   ]
  },
  {
   "cell_type": "code",
   "execution_count": 10,
   "id": "78c97dbd-d4a0-4d93-a5f2-964dd1b02225",
   "metadata": {},
   "outputs": [
    {
     "name": "stderr",
     "output_type": "stream",
     "text": [
      "/tmp/ipykernel_682564/1209703986.py:4: DtypeWarning: Columns (27,28,29,30,31,32,33,34,43,44,45,46,47,48,49,50,51,52,61,62,63,64,65,66,67,68,69,70,71,72,73,74) have mixed types. Specify dtype option on import or set low_memory=False.\n",
      "  df = pd.read_csv(FileName)\n"
     ]
    },
    {
     "data": {
      "text/html": [
       "<div>\n",
       "<style scoped>\n",
       "    .dataframe tbody tr th:only-of-type {\n",
       "        vertical-align: middle;\n",
       "    }\n",
       "\n",
       "    .dataframe tbody tr th {\n",
       "        vertical-align: top;\n",
       "    }\n",
       "\n",
       "    .dataframe thead th {\n",
       "        text-align: right;\n",
       "    }\n",
       "</style>\n",
       "<table border=\"1\" class=\"dataframe\">\n",
       "  <thead>\n",
       "    <tr style=\"text-align: right;\">\n",
       "      <th></th>\n",
       "      <th>ID</th>\n",
       "      <th>lopnr</th>\n",
       "      <th>val_lopnr</th>\n",
       "      <th>birth_year_month</th>\n",
       "      <th>Sex</th>\n",
       "      <th>RefActionDate</th>\n",
       "      <th>DocumentID</th>\n",
       "      <th>IsReference</th>\n",
       "      <th>TimestampSaved</th>\n",
       "      <th>SavedAtCareUnitID</th>\n",
       "      <th>...</th>\n",
       "      <th>ActionCode18</th>\n",
       "      <th>ActionCode19</th>\n",
       "      <th>ActionCode20</th>\n",
       "      <th>ActionCode21</th>\n",
       "      <th>ActionCode22</th>\n",
       "      <th>Mosaic</th>\n",
       "      <th>Usaett</th>\n",
       "      <th>LastMoveDate</th>\n",
       "      <th>LastMoveDirection</th>\n",
       "      <th>NumberOfEarlierVisits</th>\n",
       "    </tr>\n",
       "  </thead>\n",
       "  <tbody>\n",
       "    <tr>\n",
       "      <th>0</th>\n",
       "      <td>296473</td>\n",
       "      <td>97508</td>\n",
       "      <td>1</td>\n",
       "      <td>01/08/1942</td>\n",
       "      <td>K</td>\n",
       "      <td>15/03/2020</td>\n",
       "      <td>3277</td>\n",
       "      <td>1</td>\n",
       "      <td>16/03/2020</td>\n",
       "      <td>5091</td>\n",
       "      <td>...</td>\n",
       "      <td>NaN</td>\n",
       "      <td>NaN</td>\n",
       "      <td>NaN</td>\n",
       "      <td>NaN</td>\n",
       "      <td>NaN</td>\n",
       "      <td>1.Bttre bemedlade</td>\n",
       "      <td>1.0</td>\n",
       "      <td>NaN</td>\n",
       "      <td>NaN</td>\n",
       "      <td>8.0</td>\n",
       "    </tr>\n",
       "    <tr>\n",
       "      <th>1</th>\n",
       "      <td>294480</td>\n",
       "      <td>97508</td>\n",
       "      <td>1</td>\n",
       "      <td>01/08/1942</td>\n",
       "      <td>K</td>\n",
       "      <td>15/03/2020</td>\n",
       "      <td>3485</td>\n",
       "      <td>0</td>\n",
       "      <td>24/03/2020</td>\n",
       "      <td>4264</td>\n",
       "      <td>...</td>\n",
       "      <td>NaN</td>\n",
       "      <td>NaN</td>\n",
       "      <td>NaN</td>\n",
       "      <td>NaN</td>\n",
       "      <td>NaN</td>\n",
       "      <td>NaN</td>\n",
       "      <td>NaN</td>\n",
       "      <td>NaN</td>\n",
       "      <td>NaN</td>\n",
       "      <td>8.0</td>\n",
       "    </tr>\n",
       "    <tr>\n",
       "      <th>2</th>\n",
       "      <td>293891</td>\n",
       "      <td>97508</td>\n",
       "      <td>1</td>\n",
       "      <td>01/08/1942</td>\n",
       "      <td>K</td>\n",
       "      <td>15/03/2020</td>\n",
       "      <td>3547</td>\n",
       "      <td>0</td>\n",
       "      <td>24/03/2020</td>\n",
       "      <td>5065</td>\n",
       "      <td>...</td>\n",
       "      <td>NaN</td>\n",
       "      <td>NaN</td>\n",
       "      <td>NaN</td>\n",
       "      <td>NaN</td>\n",
       "      <td>NaN</td>\n",
       "      <td>NaN</td>\n",
       "      <td>NaN</td>\n",
       "      <td>NaN</td>\n",
       "      <td>NaN</td>\n",
       "      <td>8.0</td>\n",
       "    </tr>\n",
       "    <tr>\n",
       "      <th>3</th>\n",
       "      <td>296589</td>\n",
       "      <td>97508</td>\n",
       "      <td>1</td>\n",
       "      <td>01/08/1942</td>\n",
       "      <td>K</td>\n",
       "      <td>15/03/2020</td>\n",
       "      <td>3552</td>\n",
       "      <td>0</td>\n",
       "      <td>27/03/2020</td>\n",
       "      <td>5091</td>\n",
       "      <td>...</td>\n",
       "      <td>NaN</td>\n",
       "      <td>NaN</td>\n",
       "      <td>NaN</td>\n",
       "      <td>NaN</td>\n",
       "      <td>NaN</td>\n",
       "      <td>NaN</td>\n",
       "      <td>NaN</td>\n",
       "      <td>NaN</td>\n",
       "      <td>NaN</td>\n",
       "      <td>8.0</td>\n",
       "    </tr>\n",
       "  </tbody>\n",
       "</table>\n",
       "<p>4 rows × 80 columns</p>\n",
       "</div>"
      ],
      "text/plain": [
       "       ID  lopnr  val_lopnr birth_year_month Sex RefActionDate  DocumentID  \\\n",
       "0  296473  97508          1       01/08/1942   K    15/03/2020        3277   \n",
       "1  294480  97508          1       01/08/1942   K    15/03/2020        3485   \n",
       "2  293891  97508          1       01/08/1942   K    15/03/2020        3547   \n",
       "3  296589  97508          1       01/08/1942   K    15/03/2020        3552   \n",
       "\n",
       "   IsReference TimestampSaved  SavedAtCareUnitID  ... ActionCode18  \\\n",
       "0            1     16/03/2020               5091  ...          NaN   \n",
       "1            0     24/03/2020               4264  ...          NaN   \n",
       "2            0     24/03/2020               5065  ...          NaN   \n",
       "3            0     27/03/2020               5091  ...          NaN   \n",
       "\n",
       "   ActionCode19 ActionCode20 ActionCode21 ActionCode22             Mosaic  \\\n",
       "0           NaN          NaN          NaN          NaN  1.Bttre bemedlade   \n",
       "1           NaN          NaN          NaN          NaN                NaN   \n",
       "2           NaN          NaN          NaN          NaN                NaN   \n",
       "3           NaN          NaN          NaN          NaN                NaN   \n",
       "\n",
       "  Usaett LastMoveDate LastMoveDirection NumberOfEarlierVisits  \n",
       "0    1.0          NaN               NaN                   8.0  \n",
       "1    NaN          NaN               NaN                   8.0  \n",
       "2    NaN          NaN               NaN                   8.0  \n",
       "3    NaN          NaN               NaN                   8.0  \n",
       "\n",
       "[4 rows x 80 columns]"
      ]
     },
     "metadata": {},
     "output_type": "display_data"
    },
    {
     "name": "stdout",
     "output_type": "stream",
     "text": [
      "0:\tID\n",
      "1:\tlopnr\n",
      "2:\tval_lopnr\n",
      "3:\tbirth_year_month\n",
      "4:\tSex\n",
      "5:\tRefActionDate\n",
      "6:\tDocumentID\n",
      "7:\tIsReference\n",
      "8:\tTimestampSaved\n",
      "9:\tSavedAtCareUnitID\n",
      "10:\tNameOfCareUnit\n",
      "11:\tIsInpatient\n",
      "12:\tStartDatetime\n",
      "13:\tEmergencyID\n",
      "14:\tDischargeDateTime\n",
      "15:\tDiagnosisCode1\n",
      "16:\tDiagnosisCode2\n",
      "17:\tDiagnosisCode3\n",
      "18:\tDiagnosisCode4\n",
      "19:\tDiagnosisCode5\n",
      "20:\tDiagnosisCode6\n",
      "21:\tDiagnosisCode7\n",
      "22:\tDiagnosisCode8\n",
      "23:\tDiagnosisCode9\n",
      "24:\tDiagnosisCode10\n",
      "25:\tDiagnosisCode11\n",
      "26:\tDiagnosisCode12\n",
      "27:\tDiagnosisCode13\n",
      "28:\tDiagnosisCode14\n",
      "29:\tDiagnosisCode15\n",
      "30:\tDiagnosisCode16\n",
      "31:\tDiagnosisCode17\n",
      "32:\tDiagnosisCode18\n",
      "33:\tDiagnosisCode19\n",
      "34:\tDiagnosisCode20\n",
      "35:\tDiagnosisCodePre1\n",
      "36:\tDiagnosisCodePre2\n",
      "37:\tDiagnosisCodePre3\n",
      "38:\tDiagnosisCodePre4\n",
      "39:\tDiagnosisCodePre5\n",
      "40:\tDiagnosisCodePre6\n",
      "41:\tDiagnosisCodePre7\n",
      "42:\tDiagnosisCodePre8\n",
      "43:\tDiagnosisCodePre9\n",
      "44:\tDiagnosisCodePre10\n",
      "45:\tDiagnosisCodePre11\n",
      "46:\tDiagnosisCodePre12\n",
      "47:\tDiagnosisCodePre13\n",
      "48:\tDiagnosisCodePre14\n",
      "49:\tDiagnosisCodePre15\n",
      "50:\tDiagnosisCodePre16\n",
      "51:\tDiagnosisCodePre17\n",
      "52:\tDiagnosisCodePre18\n",
      "53:\tActionCode1\n",
      "54:\tActionCode2\n",
      "55:\tActionCode3\n",
      "56:\tActionCode4\n",
      "57:\tActionCode5\n",
      "58:\tActionCode6\n",
      "59:\tActionCode7\n",
      "60:\tActionCode8\n",
      "61:\tActionCode9\n",
      "62:\tActionCode10\n",
      "63:\tActionCode11\n",
      "64:\tActionCode12\n",
      "65:\tActionCode13\n",
      "66:\tActionCode14\n",
      "67:\tActionCode15\n",
      "68:\tActionCode16\n",
      "69:\tActionCode17\n",
      "70:\tActionCode18\n",
      "71:\tActionCode19\n",
      "72:\tActionCode20\n",
      "73:\tActionCode21\n",
      "74:\tActionCode22\n",
      "75:\tMosaic\n",
      "76:\tUsaett\n",
      "77:\tLastMoveDate\n",
      "78:\tLastMoveDirection\n",
      "79:\tNumberOfEarlierVisits\n"
     ]
    }
   ],
   "source": [
    "# FileName = 'tiny.csv'\n",
    "FileName = 'aaaPas 2024-05-15.csv'\n",
    "# Read in Data File\n",
    "df = pd.read_csv(FileName)\n",
    "display(df.head(4))\n",
    "\n",
    "for slNo, name in enumerate(df.columns):\n",
    "    print(\"{}:\\t{}\".format(slNo, name))"
   ]
  },
  {
   "cell_type": "markdown",
   "id": "192f524e-a3f4-44d4-8fbe-192435b6fa06",
   "metadata": {},
   "source": [
    "### Make a container to hold square waves."
   ]
  },
  {
   "cell_type": "code",
   "execution_count": 11,
   "id": "29d98851-32dd-48a1-81c1-e8b5f970270c",
   "metadata": {},
   "outputs": [
    {
     "name": "stdout",
     "output_type": "stream",
     "text": [
      "(61,)\n"
     ]
    }
   ],
   "source": [
    "# Number of patients: last serial number in 'val_lopnr'\n",
    "# 1 time string per patient\n",
    "# time string length is 30 days before and after 'RefActionDate' for that patient = when surgery was performed\n",
    "# time string length = 30 + 30 + 1 = 61\n",
    "timeStringLen = 61\n",
    "numPatients = df['val_lopnr'].to_numpy()[-1]+1\n",
    "timeStrings = np.zeros((numPatients, timeStringLen))\n",
    "ts = timeStrings[0,:]\n",
    "print(np.shape(ts))\n",
    "# print(np.shape(timeStrings))"
   ]
  },
  {
   "cell_type": "code",
   "execution_count": 12,
   "id": "0157a75d-8d7d-4a01-8e01-78dce826b7ac",
   "metadata": {},
   "outputs": [],
   "source": [
    "eventStartDates = df.loc[df['val_lopnr']==1]['StartDatetime']\n",
    "eventEndDates = df.loc[df['val_lopnr']==1]['DischargeDateTime'].fillna(0)\n",
    "\n",
    "# print(eventStartDates)\n",
    "# print(eventEndDates)"
   ]
  },
  {
   "cell_type": "code",
   "execution_count": 13,
   "id": "0e44dcc4-d185-4fd0-a9e3-4ee19d034c58",
   "metadata": {},
   "outputs": [
    {
     "name": "stdout",
     "output_type": "stream",
     "text": [
      "2020-03-08 00:00:00\n",
      "-7\n",
      "2020-03-15 00:00:00\n",
      "interval is 7\n",
      "---\n",
      "2020-03-20 00:00:00\n",
      "5\n",
      "0\n",
      "---\n",
      "2020-03-21 00:00:00\n",
      "6\n",
      "2020-03-23 00:00:00\n",
      "interval is 2\n",
      "---\n",
      "2020-03-23 00:00:00\n",
      "8\n",
      "2020-03-26 00:00:00\n",
      "interval is 3\n",
      "---\n"
     ]
    }
   ],
   "source": [
    "# Assign a name for RefActionDate \n",
    "idx30_date = pd.to_datetime(df.loc[df['val_lopnr']==1]['RefActionDate'][0], dayfirst=True)\n",
    "\n",
    "# Set midpoint of list to RefActionDate\n",
    "midPt = 30\n",
    "ts[midPt] = 1\n",
    "\n",
    "for i, j in zip(eventStartDates, eventEndDates):\n",
    "    x = pd.to_datetime(i, dayfirst=True)\n",
    "    print(x)\n",
    "    print((x-idx30_date).days)\n",
    "    startOffset = (x-idx30_date).days\n",
    "    ts[midPt + startOffset] = 1\n",
    "    if j!=0: # When inpatient\n",
    "        y = pd.to_datetime(j, dayfirst=True)\n",
    "        print(y)\n",
    "        print('interval is {}'.format((y-x).days))\n",
    "        endOffset = (y-x).days\n",
    "        ts[midPt + startOffset : midPt + startOffset + endOffset + 1] = 1\n",
    "    else: # Delta when outpatient\n",
    "        print(0)\n",
    "    print('---')"
   ]
  },
  {
   "cell_type": "code",
   "execution_count": 14,
   "id": "6efe337f-dc5b-4bd9-8e1a-10f8f015b43f",
   "metadata": {},
   "outputs": [],
   "source": [
    "def generateSquareSignals(idx30_date, eventStarts, eventEnds):\n",
    "    # Set midpoint of list to RefActionDate\n",
    "    midPt = 30\n",
    "    ts = np.zeros(61)\n",
    "    ts[midPt] = 1\n",
    "    \n",
    "    for i, j in zip(eventStartDates, eventEndDates):\n",
    "        x = pd.to_datetime(i, dayfirst=True)\n",
    "        # print(x)\n",
    "        # print((x-idx30_date).days)\n",
    "        startOffset = (x-idx30_date).days\n",
    "        # Always set event Start Date to 1, whether inpatient or outpatient\n",
    "        ts[midPt + startOffset] = 1\n",
    "        if j!=0: # When inpatient\n",
    "            y = pd.to_datetime(j, dayfirst=True)\n",
    "            # print(y)\n",
    "            # print('interval is {}'.format((y-x).days))\n",
    "            endOffset = (y-x).days\n",
    "            ts[midPt + startOffset : midPt + startOffset + endOffset + 1] = 1\n",
    "        else: # Delta when outpatient\n",
    "            None\n",
    "            # print(0)\n",
    "        # print('---')    \n",
    "    return ts"
   ]
  },
  {
   "cell_type": "code",
   "execution_count": 17,
   "id": "98784751-6a66-4e07-9cda-84ae2127db02",
   "metadata": {},
   "outputs": [
    {
     "name": "stderr",
     "output_type": "stream",
     "text": [
      "/tmp/ipykernel_682564/158705733.py:10: FutureWarning: Downcasting object dtype arrays on .fillna, .ffill, .bfill is deprecated and will change in a future version. Call result.infer_objects(copy=False) instead. To opt-in to the future behavior, set `pd.set_option('future.no_silent_downcasting', True)`\n",
      "  eventEndDates = df.loc[df['val_lopnr']==i]['DischargeDateTime'].fillna(0)\n"
     ]
    },
    {
     "name": "stdout",
     "output_type": "stream",
     "text": [
      "12\n",
      "26\n",
      "32\n",
      "33\n",
      "37\n",
      "39\n",
      "57\n",
      "72\n",
      "78\n",
      "81\n",
      "93\n",
      "95\n",
      "96\n",
      "100\n",
      "116\n",
      "120\n",
      "147\n"
     ]
    }
   ],
   "source": [
    "for i in range(1, 150):\n",
    "    try: \n",
    "        # print(i)\n",
    "        # chunk = df.loc[df['val_lopnr']==i]['RefActionDate'].iloc[0]\n",
    "        # print(chunk)\n",
    "        # print(chunk[0])\n",
    "        idx30_date = pd.to_datetime(df.loc[df['val_lopnr']==i]['RefActionDate'].iloc[0], dayfirst=True)\n",
    "        # print(idx30_date)\n",
    "        eventStartDates = df.loc[df['val_lopnr']==i]['StartDatetime']\n",
    "        eventEndDates = df.loc[df['val_lopnr']==i]['DischargeDateTime'].fillna(0)\n",
    "        timeStrings[i, :] = generateSquareSignals(idx30_date, eventStartDates, eventEndDates)\n",
    "    except:\n",
    "        print(i)"
   ]
  },
  {
   "cell_type": "code",
   "execution_count": 18,
   "id": "980ec45a-cb8a-4c68-9f08-6d5b8304c8f4",
   "metadata": {},
   "outputs": [
    {
     "name": "stdout",
     "output_type": "stream",
     "text": [
      "(260993, 61)\n"
     ]
    },
    {
     "data": {
      "image/png": "[encoded data removed]",
      "text/plain": [
       "<Figure size 640x480 with 1 Axes>"
      ]
     },
     "metadata": {},
     "output_type": "display_data"
    }
   ],
   "source": [
    "numPatients = 150\n",
    "print(np.shape(timeStrings))\n",
    "plt.figure()\n",
    "plt.imshow(timeStrings[0:min(20, numPatients),:])\n",
    "plt.show()"
   ]
  },
  {
   "cell_type": "code",
   "execution_count": 19,
   "id": "7fea3ccd-a3ca-476f-a26f-79daaead93aa",
   "metadata": {},
   "outputs": [
    {
     "name": "stderr",
     "output_type": "stream",
     "text": [
      "/home/akts/anaconda3/envs/covid-ki/lib/python3.12/site-packages/seaborn/axisgrid.py:123: UserWarning: Tight layout not applied. tight_layout cannot make axes height small enough to accommodate all axes decorations.\n",
      "  self._figure.tight_layout(*args, **kwargs)\n",
      "/home/akts/anaconda3/envs/covid-ki/lib/python3.12/site-packages/seaborn/axisgrid.py:123: UserWarning: Tight layout not applied. tight_layout cannot make axes height small enough to accommodate all axes decorations.\n",
      "  self._figure.tight_layout(*args, **kwargs)\n",
      "/home/akts/anaconda3/envs/covid-ki/lib/python3.12/site-packages/seaborn/axisgrid.py:123: UserWarning: Tight layout not applied. tight_layout cannot make axes height small enough to accommodate all axes decorations.\n",
      "  self._figure.tight_layout(*args, **kwargs)\n",
      "/home/akts/anaconda3/envs/covid-ki/lib/python3.12/site-packages/seaborn/axisgrid.py:123: UserWarning: Tight layout not applied. tight_layout cannot make axes height small enough to accommodate all axes decorations.\n",
      "  self._figure.tight_layout(*args, **kwargs)\n",
      "/home/akts/anaconda3/envs/covid-ki/lib/python3.12/site-packages/seaborn/axisgrid.py:123: UserWarning: Tight layout not applied. tight_layout cannot make axes height small enough to accommodate all axes decorations.\n",
      "  self._figure.tight_layout(*args, **kwargs)\n"
     ]
    },
    {
     "data": {
      "text/plain": [
       "<seaborn.axisgrid.FacetGrid at 0x7ef0c5c7eb70>"
      ]
     },
     "execution_count": 19,
     "metadata": {},
     "output_type": "execute_result"
    },
    {
     "data": {
      "image/png": "[encoded data removed]",
      "text/plain": [
       "<Figure size 750x500 with 10 Axes>"
      ]
     },
     "metadata": {},
     "output_type": "display_data"
    }
   ],
   "source": []
  },
  {
   "cell_type": "code",
   "execution_count": null,
   "id": "f8a86e02-aac7-4dae-8783-ca05d0a0eadf",
   "metadata": {},
   "outputs": [],
   "source": []
  }
 ],
 "metadata": {
  "kernelspec": {
   "display_name": "Python 3 (ipykernel)",
   "language": "python",
   "name": "python3"
  },
  "language_info": {
   "codemirror_mode": {
    "name": "ipython",
    "version": 3
   },
   "file_extension": ".py",
   "mimetype": "text/x-python",
   "name": "python",
   "nbconvert_exporter": "python",
   "pygments_lexer": "ipython3",
   "version": "3.12.4"
  }
 },
 "nbformat": 4,
 "nbformat_minor": 5
}
